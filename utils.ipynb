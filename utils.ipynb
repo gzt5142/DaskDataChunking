{
 "cells": [
  {
   "cell_type": "markdown",
   "id": "5d838fc2-b153-4511-b7a5-b7ce360f72ba",
   "metadata": {},
   "source": [
    "# Utility Functions\n",
    "\n",
    "This notebook contains a collection of minor utility functions that can help\n",
    "with common tasks in other notebook. To use these helper functions: \n",
    "\n",
    "```python\n",
    "%run utils.ipynb\n",
    "```\n",
    "Then you will have access to the functions defined below.  You may call them \n",
    "as if they were defined in the notebook which \"ran\" this notebook. "
   ]
  },
  {
   "cell_type": "markdown",
   "id": "211c0105-6a20-4ca4-a7ec-dae28f5522c0",
   "metadata": {},
   "source": [
    "## Fingerprinting\n",
    "\n",
    "The \"fingerprint\" of the environment shows us the specific versions of key packages \n",
    "used in the execution environment. "
   ]
  },
  {
   "cell_type": "code",
   "execution_count": null,
   "id": "e258bc1b-05e4-42e1-90d6-0f6c8787f6ea",
   "metadata": {},
   "outputs": [],
   "source": [
    "from sys import version as _sysver\n",
    "from importlib.metadata import version as _ver\n",
    "\n",
    "def _versions(mlist=None):\n",
    "    print(\"Python     :\", _sysver.replace('\\n', '')) \n",
    "    if not mlist:\n",
    "        mlist = ['dask', 'xarray', 'fsspec', 'zarr', 's3fs' ]\n",
    "    for m in sorted(mlist):\n",
    "        try:\n",
    "            print(f\"{m:10s} : {_ver(m)}\")\n",
    "        except ModuleNotFoundError:\n",
    "            print(f\"{m:10s} : --\")"
   ]
  }
 ],
 "metadata": {
  "kernelspec": {
   "display_name": "Python 3 (ipykernel)",
   "language": "python",
   "name": "python3"
  },
  "language_info": {
   "codemirror_mode": {
    "name": "ipython",
    "version": 3
   },
   "file_extension": ".py",
   "mimetype": "text/x-python",
   "name": "python",
   "nbconvert_exporter": "python",
   "pygments_lexer": "ipython3",
   "version": "3.10.8"
  }
 },
 "nbformat": 4,
 "nbformat_minor": 5
}
