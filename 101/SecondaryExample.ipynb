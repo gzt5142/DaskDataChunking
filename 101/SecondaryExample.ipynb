{
 "cells": [
  {
   "cell_type": "code",
   "execution_count": null,
   "id": "00d2ca69-26f6-4b2a-bc5c-b11e0bb7f23f",
   "metadata": {},
   "outputs": [],
   "source": [
    "DATA_url = r\"http://thredds.northwestknowledge.net:8080/thredds/dodsC/agg_met_pr_1979_CurrentYear_CONUS.nc\"\n"
   ]
  },
  {
   "cell_type": "code",
   "execution_count": null,
   "id": "19421b21-eb10-4d4d-b8a6-8a28de456a6a",
   "metadata": {},
   "outputs": [],
   "source": [
    "import os\n",
    "import logging\n",
    "import xarray as xr\n",
    "logging.basicConfig(level=logging.INFO, force=True)\n"
   ]
  },
  {
   "cell_type": "code",
   "execution_count": null,
   "id": "ddb8b2fa-d386-4cae-b8bb-e820bed27d65",
   "metadata": {},
   "outputs": [],
   "source": [
    "%run ../utils.ipynb\n",
    "_versions(['xarray'])"
   ]
  },
  {
   "cell_type": "code",
   "execution_count": null,
   "id": "9ebc6a80-a610-47b9-89d0-a26e8c469f44",
   "metadata": {},
   "outputs": [],
   "source": [
    "# lazy-load\n",
    "ds_in = xr.open_dataset(DATA_url + r\"#fillmismatch\", decode_coords=True, chunks={})#, decode_times=False)\n",
    "# and show it:\n",
    "ds_in"
   ]
  },
  {
   "cell_type": "code",
   "execution_count": null,
   "id": "abead8bb-a65e-4af6-90a0-165996f12ce1",
   "metadata": {},
   "outputs": [],
   "source": [
    "ds_in.precipitation_amount"
   ]
  },
  {
   "cell_type": "code",
   "execution_count": null,
   "id": "7d813ab5-ae67-4adb-88f2-471aa7d76d56",
   "metadata": {},
   "outputs": [],
   "source": [
    "16169/61"
   ]
  },
  {
   "cell_type": "code",
   "execution_count": null,
   "id": "e0df8131-d350-48bb-b6c0-932486d2a13a",
   "metadata": {},
   "outputs": [],
   "source": [
    "ds_in = xr.open_dataset(\n",
    "    DATA_url + r\"#fillmismatch\", \n",
    "    decode_coords=True, \n",
    "    chunks={'time': 24, 'lon': 864, 'lat': 432}\n",
    ")\n",
    "ds_in"
   ]
  },
  {
   "cell_type": "code",
   "execution_count": null,
   "id": "e49d852b-5f98-408f-b24b-708c6b1227aa",
   "metadata": {},
   "outputs": [],
   "source": [
    "8640/1440"
   ]
  },
  {
   "cell_type": "code",
   "execution_count": null,
   "id": "1db6735a-5146-43c1-b65a-de0c12fb74c1",
   "metadata": {},
   "outputs": [],
   "source": [
    "4320/720"
   ]
  },
  {
   "cell_type": "code",
   "execution_count": null,
   "id": "aa6db5de-e85c-4ab1-b79b-68d0e85556df",
   "metadata": {},
   "outputs": [],
   "source": []
  }
 ],
 "metadata": {
  "kernelspec": {
   "display_name": "users-users-pangeofu",
   "language": "python",
   "name": "conda-env-users-users-pangeofu-py"
  },
  "language_info": {
   "codemirror_mode": {
    "name": "ipython",
    "version": 3
   },
   "file_extension": ".py",
   "mimetype": "text/x-python",
   "name": "python",
   "nbconvert_exporter": "python",
   "pygments_lexer": "ipython3",
   "version": "3.10.10"
  }
 },
 "nbformat": 4,
 "nbformat_minor": 5
}
