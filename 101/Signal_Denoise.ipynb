{
 "cells": [
  {
   "cell_type": "markdown",
   "metadata": {},
   "source": [
    "# Plotting Example\n"
   ]
  },
  {
   "cell_type": "code",
   "execution_count": null,
   "metadata": {},
   "outputs": [],
   "source": [
    "import numpy as np\n",
    "import matplotlib.pyplot as plt\n",
    "plt.rcParams['figure.figsize'] = [16, 12]\n",
    "plt.rcParams.update({'font.size': 18})\n",
    "\n",
    "# Create a simple signal with two frequencies\n",
    "dt = 0.001\n",
    "t = np.arange(0,1,dt)\n",
    "f = np.sin(2*np.pi*50*t) + np.sin(2*np.pi*120*t) # Sum of 2 frequencies\n",
    "f_clean = f\n",
    "f = f + 2.5*np.random.randn(len(t))              # Add some noise"
   ]
  },
  {
   "cell_type": "markdown",
   "metadata": {},
   "source": [
    "## Compute the Fast Fourier Transform (FFT)\n"
   ]
  },
  {
   "cell_type": "code",
   "execution_count": null,
   "metadata": {},
   "outputs": [],
   "source": [
    "\n",
    "n = len(t)\n",
    "fhat = np.fft.fft(f,n)                     # Compute the FFT\n",
    "PSD = fhat * np.conj(fhat) / n             # Power spectrum (power per freq)\n",
    "freq = (1/(dt*n)) * np.arange(n)           # Create x-axis of frequencies in Hz\n",
    "L = np.arange(1,np.floor(n/2),dtype='int') # Only plot the first half of freqs\n"
   ]
  },
  {
   "cell_type": "markdown",
   "metadata": {},
   "source": [
    "## Use the PSD to filter out noise"
   ]
  },
  {
   "cell_type": "code",
   "execution_count": null,
   "metadata": {},
   "outputs": [],
   "source": [
    "indices = PSD > 100       # Find all freqs with large power\n",
    "PSDclean = PSD * indices  # Zero out all others\n",
    "fhat = indices * fhat     # Zero out small Fourier coeffs. in Y\n",
    "ffilt = np.fft.ifft(fhat) # Inverse FFT for filtered time signal"
   ]
  },
  {
   "cell_type": "markdown",
   "metadata": {
    "tags": [
     "hide-input"
    ]
   },
   "source": [
    "## Plots"
   ]
  },
  {
   "cell_type": "code",
   "execution_count": null,
   "metadata": {
    "tags": [
     "hide-input"
    ]
   },
   "outputs": [],
   "source": [
    "fig,axs = plt.subplots(3,1)\n",
    "\n",
    "plt.sca(axs[0])\n",
    "plt.plot(t,f,color='r',linewidth=1.5,label='Noisy')\n",
    "plt.plot(t,f_clean,color='k',linewidth=2,label='Clean')\n",
    "plt.xlim(t[0],t[-1])\n",
    "plt.legend()\n",
    "\n",
    "plt.sca(axs[1])\n",
    "plt.plot(t, np.real(f_clean),color='k',linewidth=1.5,label='Clean')\n",
    "plt.plot(t, np.real(ffilt),color='b',linewidth=2,label='Filtered')\n",
    "plt.xlim(t[0], np.real(t[-1]))\n",
    "plt.legend()\n",
    "\n",
    "plt.sca(axs[2])\n",
    "plt.plot(freq[L], np.real(PSD[L]),color='r',linewidth=2,label='Noisy')\n",
    "plt.plot(freq[L], np.real(PSDclean[L]),color='b',linewidth=1.5,label='Filtered')\n",
    "plt.xlim(freq[L[0]], np.real(freq[L[-1]]))\n",
    "plt.legend()\n",
    "\n",
    "plt.show()"
   ]
  },
  {
   "cell_type": "code",
   "execution_count": null,
   "metadata": {},
   "outputs": [],
   "source": []
  }
 ],
 "metadata": {
  "kernelspec": {
   "display_name": "users-users-pangeofu",
   "language": "python",
   "name": "conda-env-users-users-pangeofu-py"
  },
  "language_info": {
   "codemirror_mode": {
    "name": "ipython",
    "version": 3
   },
   "file_extension": ".py",
   "mimetype": "text/x-python",
   "name": "python",
   "nbconvert_exporter": "python",
   "pygments_lexer": "ipython3",
   "version": "3.10.10"
  }
 },
 "nbformat": 4,
 "nbformat_minor": 4
}
