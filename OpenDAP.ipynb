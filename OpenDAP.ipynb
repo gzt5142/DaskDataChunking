{
 "cells": [
  {
   "cell_type": "code",
   "execution_count": null,
   "id": "4fd3a367-8435-4ddf-92d6-c09ddfbd896a",
   "metadata": {},
   "outputs": [],
   "source": [
    "(\n",
    "    300 * 300 * 72 * 4 ) / 1e6"
   ]
  },
  {
   "cell_type": "code",
   "execution_count": null,
   "id": "27a8a5e2-926a-4c7b-b147-5b5a47a8710a",
   "metadata": {},
   "outputs": [],
   "source": [
    "1512/72\n",
    "## chunks to run a full time series. \n",
    "# a cluster of ten workers would load in about 2 seconds\n",
    "\n",
    "\n",
    "# "
   ]
  },
  {
   "cell_type": "code",
   "execution_count": null,
   "id": "f239b377-a59a-4ea3-81d4-c3d55e4a9817",
   "metadata": {},
   "outputs": [],
   "source": [
    "(1405 * 621 ) / 300**2"
   ]
  },
  {
   "cell_type": "code",
   "execution_count": null,
   "id": "01ebf0e1-1291-490f-a85d-7c4d9d62b38d",
   "metadata": {},
   "outputs": [],
   "source": [
    "(24 * 23 * 4) / 1e6"
   ]
  },
  {
   "cell_type": "code",
   "execution_count": null,
   "id": "4527d1a1-0523-4eff-b4c1-a3564b265c2c",
   "metadata": {},
   "outputs": [],
   "source": [
    "### 10-200 Mb range. in terms of total size  ; influenced by I/O latency and similar concerns.   (10 or 100ms latency for S3/dask scheduler). \n",
    "## size vs shape ; \n",
    "import xarray as xr\n",
    "OPENDAP_url = 'https://cida.usgs.gov/thredds/dodsC/prism_v2'\n",
    "ds_in = xr.open_dataset(OPENDAP_url, decode_times=False, chunks={'time': 72, 'lat': 312, 'lon':352})\n"
   ]
  },
  {
   "cell_type": "code",
   "execution_count": null,
   "id": "1eacde68-f7e7-4cba-97f6-9d6dae3c6d4d",
   "metadata": {},
   "outputs": [],
   "source": [
    "ds_in"
   ]
  },
  {
   "cell_type": "code",
   "execution_count": null,
   "id": "91804fd1-9052-4823-9a1f-950cd23281f9",
   "metadata": {},
   "outputs": [],
   "source": [
    "%%time\n",
    "x = ds_in.isel(time=slice(0,72))#.to_zarr(mapper)"
   ]
  },
  {
   "cell_type": "code",
   "execution_count": null,
   "id": "f1389b1b-ad5c-4ccd-98d1-6dbf10d7e1e7",
   "metadata": {},
   "outputs": [],
   "source": [
    "ds_in.nbytes / 1e9"
   ]
  },
  {
   "cell_type": "code",
   "execution_count": null,
   "id": "fcb43005-06c6-4d63-9b94-2e714e81c539",
   "metadata": {},
   "outputs": [],
   "source": [
    "import os\n",
    "import logging\n",
    "import configparser\n",
    "\n",
    "logging.basicConfig(level=logging.INFO, force=True)\n",
    "\n",
    "import xarray as xr\n",
    "import dask\n",
    "import fsspec\n",
    "import rechunker\n",
    "import zarr\n",
    "os.environ['AWS_PROFILE'] = 'osn-renci'\n",
    "\n",
    "awsconfig = configparser.ConfigParser()\n",
    "awsconfig.read(\n",
    "    os.path.expanduser('~/.aws/credentials') # default location... if yours is elsewhere, change this.\n",
    ")\n",
    "## NOTE:  The default will be for the OSN / RENCI profile and endpoint. Override this\n",
    "## by setting environment variables before executing this cell/notebook.\n",
    "_profile_nm  = os.environ.get('AWS_PROFILE', 'osn-renci')\n",
    "_endpoint = os.environ.get('AWS_S3_ENDPOINT', 'https://renc.osn.xsede.org')\n",
    "# Set environment vars based on parsed awsconfig\n",
    "try:\n",
    "    os.environ['AWS_ACCESS_KEY_ID']     = awsconfig[_profile_nm]['aws_access_key_id']\n",
    "    os.environ['AWS_SECRET_ACCESS_KEY'] = awsconfig[_profile_nm]['aws_secret_access_key']\n",
    "    os.environ['AWS_S3_ENDPOINT']       = _endpoint\n",
    "    os.environ['AWS_PROFILE'] = _profile_nm\n",
    "    os.environ['AWS_DEFAULT_PROFILE'] = _profile_nm\n",
    "    os.environ['AWS_S3_REGION'] = _profile_nm\n",
    "except KeyError:\n",
    "    logging.error(\"Problem parsing the AWS credentials file. \")"
   ]
  },
  {
   "cell_type": "code",
   "execution_count": null,
   "id": "df3dfc43-32d3-4f80-813e-b8c1da8d396c",
   "metadata": {},
   "outputs": [],
   "source": [
    "# INPUT: \n",
    "import os\n",
    "import fsspec\n",
    "\n",
    "OPENDAP_url = 'https://cida.usgs.gov/thredds/dodsC/prism_v2'\n",
    "\n",
    "# OUTPUT:\n",
    "FNAME = 'PRISM_v2_rsignell.zarr'\n",
    "\n",
    "\n",
    "uname='gtrantham'\n",
    "fsw = fsspec.filesystem('s3', \n",
    "    anon=False, \n",
    "    default_fill_cache=False, \n",
    "    skip_instance_cache=True, \n",
    "    client_kwargs={ 'endpoint_url': os.environ['AWS_S3_ENDPOINT'] },\n",
    ")\n",
    "\n",
    "workspace = f's3://rsignellbucket2/nhgf/{uname}/'\n",
    "\n",
    "staging = fsw.get_mapper(workspace + 'staging_nebari.zarr')\n",
    "outfile = fsw.get_mapper(workspace + FNAME)\n",
    "\n",
    "for fname in ['staging_nebari.zarr', FNAME]:\n",
    "    if fsw.exists(workspace + fname):\n",
    "        logging.warning(\"Removing existing file/folder: %s\", fname)\n",
    "        fsw.rm(workspace + fname, recursive=True)\n",
    "\n",
    "print(\"READY !!\")\n",
    "\n",
    "fsw.ls(workspace)\n"
   ]
  },
  {
   "cell_type": "code",
   "execution_count": null,
   "id": "1040cf73-3621-469a-9a64-89a41939020b",
   "metadata": {},
   "outputs": [],
   "source": [
    "from dask.distributed import progress, performance_report\n",
    "\n",
    "try:\n",
    "    from dask_gateway import Gateway\n",
    "except ImportError:\n",
    "    logging.error(\"Unable to import Dask Gateway.  Are you running in a cloud compute environment?\\n\")\n",
    "    raise\n",
    "os.environ['DASK_DISTRIBUTED__SCHEDULER__WORKER_SATURATION'] = \"1.0\"\n",
    "\n",
    "gateway = Gateway()\n",
    "_options = gateway.cluster_options()\n",
    "_options.conda_environment='users/users-pangeo'  ##<< this is the conda environment we use on nebari.\n",
    "_options.profile = 'Medium Worker'\n",
    "_env_to_add={}\n",
    "aws_env_vars=['AWS_ACCESS_KEY_ID',\n",
    "              'AWS_SECRET_ACCESS_KEY',\n",
    "              'AWS_SESSION_TOKEN',\n",
    "              'AWS_DEFAULT_REGION',\n",
    "              'AWS_S3_ENDPOINT']\n",
    "for _e in aws_env_vars:\n",
    "    if _e in os.environ:\n",
    "        _env_to_add[_e] = os.environ[_e]\n",
    "_options.environment_vars = _env_to_add    \n",
    "cluster = gateway.new_cluster(_options)          ##<< create cluster via the dask gateway\n",
    "cluster.adapt(minimum=10, maximum=30)             ##<< Sets scaling parameters. \n",
    "client = cluster.get_client()\n",
    "\n",
    "print(\"The 'cluster' object can be used to adjust cluster behavior.  i.e. 'cluster.adapt(minimum=10)'\")\n",
    "print(\"The 'client' object can be used to directly interact with the cluster.  i.e. 'client.submit(func)' \")\n",
    "print(f\"The link to view the client dashboard is:\\n>  {client.dashboard_link}\")"
   ]
  },
  {
   "cell_type": "code",
   "execution_count": null,
   "id": "1afbe024-2fb2-43fc-a530-c10ce4137918",
   "metadata": {},
   "outputs": [],
   "source": [
    "%%time\n",
    "#from dask.distributed import performance_report\n",
    "\n",
    "with performance_report('progress.html'):\n",
    "    ds_in.to_zarr(outfile, mode='w')\n"
   ]
  },
  {
   "cell_type": "code",
   "execution_count": null,
   "id": "3abef646-2c2a-406f-b251-c47a2595ddd8",
   "metadata": {},
   "outputs": [],
   "source": [
    "test = xr.open_dataset(outfile, engine='zarr', chunks={})"
   ]
  },
  {
   "cell_type": "code",
   "execution_count": null,
   "id": "3480564d-f250-40ba-8eb4-7b8f37afe0c6",
   "metadata": {},
   "outputs": [],
   "source": [
    "test\n"
   ]
  },
  {
   "cell_type": "code",
   "execution_count": null,
   "id": "ec7fa667-6382-4917-9f54-66b7996d3e33",
   "metadata": {},
   "outputs": [],
   "source": [
    "156 * 2\n"
   ]
  },
  {
   "cell_type": "code",
   "execution_count": null,
   "id": "7bade3e0-1ad2-408e-a703-f1fbc1c4215f",
   "metadata": {},
   "outputs": [],
   "source": [
    "1405  / 352"
   ]
  },
  {
   "cell_type": "markdown",
   "id": "527d6a39-a037-4e9a-80da-cf7aac2fd9cd",
   "metadata": {},
   "source": [
    "strategy\n",
    "\n",
    "size of chunk \n",
    "shape of chunk\n",
    "\n",
    "calculate expected times for key read patterns (total extent; time-series)"
   ]
  },
  {
   "cell_type": "code",
   "execution_count": null,
   "id": "8ec90172-526c-4b44-a4b8-ad17abc7fe66",
   "metadata": {},
   "outputs": [],
   "source": [
    "import hvplot.xarray"
   ]
  },
  {
   "cell_type": "code",
   "execution_count": null,
   "id": "b54920df-66ee-4847-a5db-9e837fa33d2d",
   "metadata": {},
   "outputs": [],
   "source": [
    "%%time\n",
    "da = test.tmx.sel(lon=-75, lat=41.1, method='nearest').load()\n"
   ]
  },
  {
   "cell_type": "code",
   "execution_count": null,
   "id": "19da544a-b212-46e1-b04f-f9d23dc51652",
   "metadata": {},
   "outputs": [],
   "source": [
    "da.plot()"
   ]
  },
  {
   "cell_type": "code",
   "execution_count": null,
   "id": "390ff3e5-cb6a-4ce0-97a0-6df5d448c70e",
   "metadata": {},
   "outputs": [],
   "source": [
    "%%time\n",
    "da = test.tmx.sel(time=\"1970-01\").load()\n"
   ]
  },
  {
   "cell_type": "code",
   "execution_count": null,
   "id": "c1729b78-b8cc-416d-86d4-65d4bcccea7f",
   "metadata": {},
   "outputs": [],
   "source": [
    "da.hvplot(x='lon', y='lat', rasterize=True, geo=True, tiles='OSM' )"
   ]
  },
  {
   "cell_type": "code",
   "execution_count": null,
   "id": "692af23c-37e1-46a6-847c-a1a1e88e218b",
   "metadata": {},
   "outputs": [],
   "source": [
    "fsw.size(workspace + FNAME + \"/ppt/3.1.1\") / 1e6"
   ]
  },
  {
   "cell_type": "code",
   "execution_count": null,
   "id": "52855216-94a0-445a-b466-ab44b7056147",
   "metadata": {},
   "outputs": [],
   "source": [
    "FNAME = 'PRISM_v2_rsignell.zarr'\n",
    "\n",
    "\n",
    "uname='gtrantham'\n",
    "fsw = fsspec.filesystem('s3', \n",
    "    anon=False, \n",
    "    default_fill_cache=False, \n",
    "    skip_instance_cache=True, \n",
    "    client_kwargs={ 'endpoint_url': os.environ['AWS_S3_ENDPOINT'] },\n",
    ")\n"
   ]
  },
  {
   "cell_type": "code",
   "execution_count": null,
   "id": "df8ecf2e-4fa8-44e8-b905-9dd02506cef9",
   "metadata": {},
   "outputs": [],
   "source": [
    "fsw.ls(workspace + FNAME)"
   ]
  },
  {
   "cell_type": "code",
   "execution_count": null,
   "id": "429f4400-9501-4e32-9d7a-763ea7fe9dbb",
   "metadata": {},
   "outputs": [],
   "source": [
    "client.close(); cluster.close()"
   ]
  },
  {
   "cell_type": "code",
   "execution_count": null,
   "id": "f2052819-8b11-4cc5-b942-52fe30b3089a",
   "metadata": {},
   "outputs": [],
   "source": []
  }
 ],
 "metadata": {
  "kernelspec": {
   "display_name": "users-users-pangeo",
   "language": "python",
   "name": "conda-env-users-users-pangeo-py"
  },
  "language_info": {
   "codemirror_mode": {
    "name": "ipython",
    "version": 3
   },
   "file_extension": ".py",
   "mimetype": "text/x-python",
   "name": "python",
   "nbconvert_exporter": "python",
   "pygments_lexer": "ipython3",
   "version": "3.10.10"
  }
 },
 "nbformat": 4,
 "nbformat_minor": 5
}
