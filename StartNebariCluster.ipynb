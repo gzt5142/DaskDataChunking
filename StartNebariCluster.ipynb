{
 "cells": [
  {
   "cell_type": "markdown",
   "id": "d15303b2-006b-4099-b423-77a72b216af2",
   "metadata": {},
   "source": [
    "# Starting a Cluster on Nebari\n",
    "\n",
    "This notebook demonstrates the way we like to start clusters on the\n",
    "nebari cloud environment. "
   ]
  },
  {
   "cell_type": "code",
   "execution_count": null,
   "id": "2d30b864-d9d5-4bbc-a679-18796516712d",
   "metadata": {},
   "outputs": [],
   "source": [
    "import os\n",
    "import logging \n",
    "try:\n",
    "    from dask_gateway import Gateway\n",
    "except ImportError:\n",
    "    logging.error(\"Unable to import Dask Gateway.  Are you running in a cloud compute environment?\\n\")\n",
    "    raise\n"
   ]
  },
  {
   "cell_type": "markdown",
   "id": "c7b4e8d1-6e81-4592-8331-b61d4ef12cfd",
   "metadata": {},
   "source": [
    "## Dask Gateway Options\n",
    "\n",
    "The cluster scheduler on nebari makes use of a `Gateway`. This handles the \n",
    "instantiation of clusters of workers, and gives us a way to monitor their\n",
    "progress. Gateways are not used on all clustered systems (KubeCluster is\n",
    "one alternative you might find on other cloud platforms -- such as `pangeo.chs.usgs.gov`). "
   ]
  },
  {
   "cell_type": "code",
   "execution_count": null,
   "id": "6b6c6f4e-a945-43f6-a56c-15d6d1b02a7a",
   "metadata": {},
   "outputs": [],
   "source": [
    "gateway = Gateway()\n",
    "os.environ['DASK_DISTRIBUTED__SCHEDULER__WORKER_SATURATION'] = \"1.0\"\n",
    "_options = gateway.cluster_options()\n",
    "_options.conda_environment='users/users-pangeo'  ##<< this is the conda environment we use on nebari.\n",
    "_options.profile = 'Medium Worker'"
   ]
  },
  {
   "cell_type": "markdown",
   "id": "a895e027-cf9a-4d52-907b-6891339f48c4",
   "metadata": {
    "tags": []
   },
   "source": [
    "## AWS Environment Variables\n",
    "By default, the cluster does not hand the entire set of environment variables to\n",
    "each of the workers. This is an important default to override in the case of the\n",
    "AWS configuration parameters. \n",
    "\n",
    "Because individual workers in the cluster do not have access to the standard file\n",
    "system (where `~/.aws/credentials` is), the workers do not have a way to obtain\n",
    "their AWS credentials unless we hand them over as environment variables. So... we\n",
    "have to establish key variables in the environment, and explicity pass those to\n",
    "the cluster workers at the time the cluster is started: "
   ]
  },
  {
   "cell_type": "code",
   "execution_count": null,
   "id": "47b9fc40-c749-4d12-b9fe-a7eccd6b11fa",
   "metadata": {},
   "outputs": [],
   "source": [
    "_env_to_add={}\n",
    "aws_env_vars=['AWS_ACCESS_KEY_ID',\n",
    "              'AWS_SECRET_ACCESS_KEY',\n",
    "              'AWS_SESSION_TOKEN',\n",
    "              'AWS_DEFAULT_REGION',\n",
    "              'AWS_S3_ENDPOINT']\n",
    "for _e in aws_env_vars:\n",
    "    if _e in os.environ:\n",
    "        _env_to_add[_e] = os.environ[_e]\n",
    "_options.environment_vars = _env_to_add    "
   ]
  },
  {
   "cell_type": "markdown",
   "id": "ea7a9269-501b-40a7-9478-e42792600549",
   "metadata": {},
   "source": [
    "## Cluster Start"
   ]
  },
  {
   "cell_type": "code",
   "execution_count": null,
   "id": "0a59614f-774e-4943-886b-251f628fb042",
   "metadata": {},
   "outputs": [],
   "source": [
    "cluster = gateway.new_cluster(_options)          ##<< create cluster via the dask gateway\n",
    "cluster.adapt(minimum=10, maximum=30)             ##<< Sets scaling parameters. \n",
    "client = cluster.get_client()"
   ]
  },
  {
   "cell_type": "markdown",
   "id": "80bf775c-c8b5-49d8-b31f-bdf734297426",
   "metadata": {},
   "source": [
    "## Notify\n",
    "Give the user the link by which they can monitor the cluster workers' progress and status. "
   ]
  },
  {
   "cell_type": "code",
   "execution_count": null,
   "id": "394a8ff6-a154-4679-b217-22366c24ea51",
   "metadata": {},
   "outputs": [],
   "source": [
    "print(\"The 'cluster' object can be used to adjust cluster behavior.  i.e. 'cluster.adapt(minimum=10)'\")\n",
    "print(\"The 'client' object can be used to directly interact with the cluster.  i.e. 'client.submit(func)' \")\n",
    "print(f\"The link to view the client dashboard is:\\n>  {client.dashboard_link}\")"
   ]
  },
  {
   "cell_type": "code",
   "execution_count": null,
   "id": "d9514b1a-3320-4468-aaf6-41c25e0c1902",
   "metadata": {},
   "outputs": [],
   "source": []
  }
 ],
 "metadata": {
  "kernelspec": {
   "display_name": "Python 3 (ipykernel)",
   "language": "python",
   "name": "python3"
  },
  "language_info": {
   "codemirror_mode": {
    "name": "ipython",
    "version": 3
   },
   "file_extension": ".py",
   "mimetype": "text/x-python",
   "name": "python",
   "nbconvert_exporter": "python",
   "pygments_lexer": "ipython3",
   "version": "3.10.8"
  }
 },
 "nbformat": 4,
 "nbformat_minor": 5
}
