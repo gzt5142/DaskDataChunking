{
 "cells": [
  {
   "cell_type": "markdown",
   "metadata": {},
   "source": [
    "# Appendix A"
   ]
  },
  {
   "cell_type": "code",
   "execution_count": null,
   "metadata": {
    "tags": []
   },
   "outputs": [],
   "source": [
    "import sys\n",
    "import numpy as np"
   ]
  },
  {
   "cell_type": "markdown",
   "metadata": {},
   "source": [
    "## Example Tags"
   ]
  },
  {
   "cell_type": "markdown",
   "metadata": {},
   "source": [
    "This cell is tagged `remove-input`: "
   ]
  },
  {
   "cell_type": "code",
   "execution_count": null,
   "metadata": {
    "tags": [
     "remove-input"
    ]
   },
   "outputs": [],
   "source": [
    "print(\"Python : \", sys.version)\n",
    "print(\"numpy  : \", np.__version__)"
   ]
  },
  {
   "cell_type": "markdown",
   "metadata": {},
   "source": [
    "The code cell is not included, yet its output is. "
   ]
  },
  {
   "cell_type": "markdown",
   "metadata": {},
   "source": [
    "This cell is tagged `hide-input`:"
   ]
  },
  {
   "cell_type": "code",
   "execution_count": null,
   "metadata": {
    "tags": [
     "hide-input"
    ]
   },
   "outputs": [],
   "source": [
    "print(\"Python : \", sys.version)\n",
    "print(\"numpy  : \", np.__version__)"
   ]
  },
  {
   "cell_type": "markdown",
   "metadata": {},
   "source": [
    "This markdown cell includes an `admonition` directive. \n",
    "\n",
    ":::{seealso}\n",
    "This is a 'see also' admonition.\n",
    ":::\n",
    "\n",
    "These are useful to draw attention to important text. The styling \n",
    "sets it apart from the main text flow. "
   ]
  },
  {
   "cell_type": "markdown",
   "metadata": {},
   "source": [
    "This markdown cell includes a directive to put some text into the margin\n",
    "of the rendered output. \n",
    "\n",
    ":::{margin}\n",
    "This is an example of text in the margin\n",
    ":::\n",
    "\n",
    "It is useful to display footnote-like text. It can include just about any\n",
    "markdown in the text block. "
   ]
  },
  {
   "cell_type": "code",
   "execution_count": null,
   "metadata": {},
   "outputs": [],
   "source": []
  }
 ],
 "metadata": {
  "language_info": {
   "codemirror_mode": {
    "name": "ipython",
    "version": 3
   },
   "file_extension": ".py",
   "mimetype": "text/x-python",
   "name": "python",
   "nbconvert_exporter": "python",
   "pygments_lexer": "ipython3",
   "version": "3.10.8"
  },
  "vscode": {
   "interpreter": {
    "hash": "21742c3f70e60132a0f53ab9a02119f1da5d00e790acd69466294df8491d8f10"
   }
  }
 },
 "nbformat": 4,
 "nbformat_minor": 4
}
