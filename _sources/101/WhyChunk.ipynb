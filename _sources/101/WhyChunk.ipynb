{
 "cells": [
  {
   "cell_type": "markdown",
   "metadata": {},
   "source": [
    "# Why (re)Chunk Data?\n",
    "\n",
    "Re-organizing stored data such that it matches the analysis use-case.\n",
    "\n",
    "Inspiration from:\n",
    "<https://github.com/NCAR/rechunk_retro_nwm_v21/blob/main/notebooks/usage_example_rerechunk_chrtout.ipynb>\n",
    "\n",
    ":::{note}\n",
    "* The [`rechunker` documentation](https://rechunker.readthedocs.io/en/latest/index.html) contains several \n",
    "examples and a tutorial covering how to re-chunk data.  Much of what is here replicates concepts covered\n",
    "in that material.  This document uses data that _looks_ like data you might encounter in a `HyTest` workflow.\n",
    "\n",
    "* The `zarr` data standard has a nice tutorial also which covers details of \n",
    "  [optimizing chunking strategies](https://zarr.readthedocs.io/en/stable/tutorial.html#changing-chunk-shapes-rechunking).\n",
    ":::"
   ]
  },
  {
   "cell_type": "markdown",
   "metadata": {
    "jp-MarkdownHeadingCollapsed": true,
    "tags": []
   },
   "source": [
    "## What is chunking and why should you care?\n",
    "\n",
    "The idea of data '_chunks_' is closely aligned with the NetCDF and [zarr](https://zarr.dev/) \n",
    "standards for storing N-dimensional arrays of typed data. \n",
    "\n",
    "Chunks become more important as the size of the array increases.  For very large arrays, it \n",
    "is helpful to organize the memory it occupies into sub-units.  These sub-units are the \n",
    "chunks.  Note that this is not another dimension to the array, but merely a map to how the \n",
    "large array is partitioned into more palatable sized units for manipulation in memory. \n",
    "Array-handling libraries (`numpy`, `xarray`, `pandas`, and others) will handle all of the \n",
    "record-keeping to know which chunk holds a given unit of the array. \n",
    "\n",
    "### Example - first principles\n",
    "A quick side-bar to illustrate two chunking patterns for a simple 2D array.  This is a \n",
    "simplified use-case.  Consider a square array of integer values. Just for exposition, \n",
    "let's use a small array 10x10. \n",
    "\n",
    "\n",
    "$$\n",
    "\\def\\arraystretch{2.0}\n",
    "\\begin{array}{|c|c|c|c|c|c|c|c|c|c|}\n",
    "   \\hline\n",
    "   0,0 & 0,1 & 0,2 & 0,3 & 0,4 & 0,5 & 0,6 & 0,7 & 0,8 & 0,9\\\\\n",
    "   \\hline\n",
    "   1,0 & 1,1 & 1,2 & 1,3 & 1,4 & 1,5 & 1,6 & 1,7 & 1,8 & 1,9\\\\\n",
    "   \\hline\n",
    "   2,0 & 2,1 & 2,2 & 2,3 & 2,4 & 2,5 & 2,6 & 2,7 & 2,8 & 2,9\\\\\n",
    "   \\hline\n",
    "    3,0 & 3,1 & 3,2 & 3,3 & 3,4 & 3,5 & 3,6 & 3,7 & 3,8 & 3,9\\\\\n",
    "   \\hline\n",
    "    4,0 & 4,1 & 4,2 & 4,3 & 4,4 & 4,5 & 4,6 & 4,7 & 4,8 & 4,9\\\\\n",
    "   \\hline\n",
    "    5,0 & 5,1 & 5,2 & 5,3 & 5,4 & 5,5 & 5,6 & 5,7 & 5,8 & 5,9\\\\\n",
    "    \\hline\n",
    "   6,0 & 6,1 & 6,2 & 6,3 & 6,4 & 6,5 & 6,6 & 6,7 & 6,8 & 6,9\\\\\n",
    "    \\hline\n",
    "   7,0 & 7,1 & 7,2 & 7,3 & 7,4 & 7,5 & 7,6 & 7,7 & 7,8 & 7,9\\\\\n",
    "    \\hline\n",
    "   8,0 & 8,1 & 8,2 & 8,3 & 8,4 & 8,5 & 8,6 & 8,7 & 8,8 & 8,9\\\\\n",
    "    \\hline\n",
    "   9,0 & 9,1 & 9,2 & 9,3 & 9,4 & 9,5 & 9,6 & 9,7 & 9,8 & 9,9\\\\\n",
    "\\hline\n",
    "\\end{array}\n",
    "$$\n",
    "\n",
    "\n",
    "Computer memory is not addressed in grids -- it is a linear address space, so the\n",
    "2D matrix has to be organized in memory such that it presents as 2D, while being\n",
    "stored as 1D. Two common options are **row-major** \n",
    "order, and **column-major** order:\n",
    "* Row-Major -- A row of data occupies a contiguous block of memory. This implies that \n",
    "  cells which are logicall adjacent vertically are not physicall near one another in \n",
    "  memory. The 'distance' from `r0c0` to `r0c1` (a one-cell logical move within the row) \n",
    "  is short, while the 'distance' to `r1c0` (a one-cell logical move within the column) \n",
    "  is long.\n",
    "\n",
    "$$\n",
    "\\def\\arraystretch{2.0}\n",
    "\\begin{array}{|c|c|c|c|c c|c|c|c|c| c}\n",
    "   \\hline\n",
    "   0,0 & 0,1 & 0,2 & 0,3 & ... & ... & 1,0  & 1,1 & 1,2 & 1,3 & ... \\\\\n",
    "   \\hline\n",
    "\\end{array}\n",
    "$$\n",
    "\n",
    "* Column-Major -- A column of the array occupies a contiguious block of memory. This \n",
    "  implies that cells which are adjacent horizontally are not near one another physically \n",
    "  in memory. \n",
    "\n",
    "$$\n",
    "\\def\\arraystretch{2.0}\n",
    "\\begin{array}{|c|c|c|c|c c|c|c|c|c| c}\n",
    "   \\hline\n",
    "   0,0 & 1,0 & 2,0 & 3,0 & ... & ... & 0,1  & 1,1 & 2,1 & 3,1 & ... \\\\\n",
    "   \\hline\n",
    "\\end{array}\n",
    "$$\n",
    "\n",
    "\n",
    "In either mapping, `r3c5` (for example) still fetches the same value.  The array \n",
    "still indexes/addresses in the same way as far as the user is concerned, but the \n",
    "chunking plan determines how nearby an 'adjacent' index is. \n",
    "\n",
    "### Example - extend to chunking\n",
    "The basic idea behind chunking is an extension of this memory organization principle. \n",
    "As the size of the array increases, the chunk pattern becomes more relevant. Suppose \n",
    "the data is big enough that only a row or column at a time can fit into memory. \n",
    "If your data is chunked by **rows**, and you need to process a **column** of data -- your \n",
    "process will need to read a lot of data, skipping most of it, to get the $i^{th}$ \n",
    "column value for each row. For this analysis, it would be better if the array could \n",
    "be '_re-chunked_' from row-major order to column-major order.  This would favor \n",
    "column operations.\n",
    "\n",
    "\n",
    "## Pros &amp; Cons\n",
    "Data that is well-organized to optimize one kind of analysis may not suit another \n",
    "kind of analysis on the same data. Re-chunking is time-consuming, and it produces \n",
    "a separate copy of the dataset, increasing storage requirements. The initial time \n",
    "commitment is a one-time operation so that future analyses can run quickly. The \n",
    "space commitment can be substantial if a complex dataset needs to be organized for \n",
    "many different analyses.\n"
   ]
  },
  {
   "cell_type": "markdown",
   "metadata": {},
   "source": [
    "## Examining a Small Dataset\n",
    "Let's read a sample dataset and examine how it is chunked.  \n",
    "\n",
    "As a test datasaet, we've taken a random sampling of 400 stream gages for \n",
    "the month of July, 2000 from the National Water Model Reanalysis Version 2.1.\n",
    "The full dataset is part of the \n",
    "[AWS Open Data Program](https://aws.amazon.com/opendata/), \n",
    "available via the S3 bucket at \n",
    "```\n",
    "s3://noaa-nwm-retrospective-2-1-zarr-pds/noaa-nwm-retrospective-2-1-zarr-pds/chrtout.zarr\n",
    "```  \n",
    " \n",
    " Our subset of that data for use in this tutorial is included in the HyTEST catalog:\n",
    " "
   ]
  },
  {
   "cell_type": "code",
   "execution_count": null,
   "metadata": {},
   "outputs": [],
   "source": [
    "%run ../AWS.ipynb\n",
    "## Establish AWS credentials"
   ]
  },
  {
   "cell_type": "code",
   "execution_count": null,
   "metadata": {},
   "outputs": [],
   "source": [
    "import xarray as xr \n",
    "import intake\n",
    "url = 'https://raw.githubusercontent.com/hytest-org/hytest/main/dataset_catalog/hytest_intake_catalog.yml'\n",
    "cat = intake.open_catalog(url)\n",
    "sampleData = cat['rechunking-tutorial-cloud'].to_dask()\n",
    "sampleData"
   ]
  },
  {
   "cell_type": "markdown",
   "metadata": {},
   "source": [
    "The critical items to notice in this output are highlighted here: \n",
    "<pre>\n",
    "&lt;xarray.Dataset&gt;\n",
    "\n",
    "Dimensions:     (feature_id: 400, time: 744) <span style=\"color:red\"> &lt;-- NOTE: Two dimensions</span>\n",
    "\n",
    "                 <span style=\"color:red\">  +--- most coordinates are tied to feature_id dimension</span> \n",
    "                 <span style=\"color:red\">  |</span> \n",
    "Coordinates:     <span style=\"color:red\">  V</span>\n",
    "    elevation   (feature_id) float32 dask.array&lt;chunksize=(400,), meta=np.ndarray&gt;\n",
    "  * feature_id  (feature_id) int32 3109 189899 239166 ... 947070134 1010003783\n",
    "    gage_id     (feature_id) |S15 dask.array&lt;chunksize=(400,), meta=np.ndarray&gt;\n",
    "    latitude    (feature_id) float32 dask.array&lt;chunksize=(400,), meta=np.ndarray&gt;\n",
    "    longitude   (feature_id) float32 dask.array&lt;chunksize=(400,), meta=np.ndarray&gt;\n",
    "    order       (feature_id) int32 dask.array&lt;chunksize=(400,), meta=np.ndarray&gt;\n",
    "  * time        (time) datetime64[ns] 2000-07-01 ... 2000-07-31T23:00:00\n",
    "\n",
    "Data variables:\n",
    "    streamflow  (<span style=\"color:green\">time, feature_id</span>) float64 dask.array&lt;<span style=\"color:green\">chunksize=(256, 16)</span>, meta=np.ndarray&gt;\n",
    "    velocity    (time, feature_id) float64 dask.array&lt;chunksize=(256, 16), meta=np.ndarray&gt;\n",
    "                 <span style=\"color:red\">^^^^  ^^^^^^^^^^</span>\n",
    "                 <span style=\"color:red\">the data variables are addressed by both dimensions; this is 2D data.</span>\n",
    "</pre>"
   ]
  },
  {
   "cell_type": "markdown",
   "metadata": {},
   "source": [
    "### Data Structure\n",
    "\n",
    "This dataset is a 'stack' of two 2D arrays.  They are named 'streamflow' and 'velocity'.  The indices \n",
    "into each of those 2D arrays are `time` on one axis, and `feature_id` on the other.  The feature id \n",
    "is bound to a number of other coordinates, so you can relate/refer to a given feature by its elevation, \n",
    "gage_id, latitude, longitude, or stream order. \n",
    "\n",
    "Note the `chunksize` highlighted in green. This says that the data is stored in blocks mapping to 256 \n",
    "adjacent time-steps for 16 adjacent features. (**NOTE**: _The original data is not chunked this way; we've \n",
    "deliberately fiddled with the chunk configuration for this tutorial_)\n",
    "\n",
    "### Two Example Read Patterns\n",
    "A time-series analysis (i.e. sampling all time-step values for a single `feature_id`) would require \n",
    "multiple chunks to be fetched. "
   ]
  },
  {
   "cell_type": "code",
   "execution_count": null,
   "metadata": {},
   "outputs": [],
   "source": [
    "# Fetch all the time values for a specific feature_id\n",
    "sampleData['streamflow'].sel(feature_id=1343034)"
   ]
  },
  {
   "cell_type": "markdown",
   "metadata": {},
   "source": [
    "This data has 744 time-steps available, chunked into chunks of 256 values each. Three chunks are needed to hold this time-series for one feature.  Not too bad, but not good either. \n",
    "\n",
    "On the other hand, an analysis which samples all locations for a single point in time would need \n",
    "to fetch multiple chunks also. \n"
   ]
  },
  {
   "cell_type": "code",
   "execution_count": null,
   "metadata": {},
   "outputs": [],
   "source": [
    "# Fetch all the gage values for a single day\n",
    "sampleData['streamflow'].sel(time='07-01-2000')"
   ]
  },
  {
   "cell_type": "markdown",
   "metadata": {},
   "source": [
    "\n",
    "This dataset has 400 features, broken into chunks of 16 data values in each chunk. Many \n",
    "more chunks must be fetched for this read pattern.  This is much worse: the I/O engine \n",
    "needs to find and retrieve 25 chunks vs 3 in the previous example. Each separate chunk/file\n",
    "is a full trip through the I/O stack. \n",
    "\n",
    "If we were going to do either of those analyses on a very large dataset with this pattern,\n",
    "we'd want to re-chunk the data to optimize for our read pattern.  "
   ]
  },
  {
   "cell_type": "markdown",
   "metadata": {},
   "source": [
    "## Re-Chunking the Sample Data\n",
    "This is a trivial example, due to the small size of the dataset -- It all fits in memory easily,\n",
    "so chunking is largely unnecesary in terms of optimizing I/O (parallelism is still a consideration). \n",
    "But it is worth doing, as concepts will apply when we take this to the full-sized data.\n",
    "\n",
    "First thing we need is a chunk plan to describe the chunk layout we want. This can be generated \n",
    "using various methods.  For this dataset, it's easy enough to write it manually:"
   ]
  },
  {
   "cell_type": "code",
   "execution_count": null,
   "metadata": {},
   "outputs": [],
   "source": [
    "# Numbers are *size* of the chunk. \n",
    "chunk_plan = {\n",
    "    'streamflow': {'time': 744, 'feature_id': 1}, # all time records in one chunk for each feature_id\n",
    "    'velocity': {'time': 744, 'feature_id': 1},\n",
    "    'elevation': (400,),\n",
    "    'gage_id': (400,),\n",
    "    'latitude': (400,),\n",
    "    'longitude': (400,),    \n",
    "    'order': (400,),    \n",
    "    'time': (744,),\n",
    "    'feature_id': (400,)\n",
    "}"
   ]
  },
  {
   "cell_type": "markdown",
   "metadata": {},
   "source": [
    "With this plan, we can ask `rechunker` to re-write the data using the prescribed chunking pattern.\n"
   ]
  },
  {
   "cell_type": "code",
   "execution_count": null,
   "metadata": {},
   "outputs": [],
   "source": [
    "import rechunker\n",
    "outfile = r\"/tmp/outfile.zarr\"\n",
    "result = rechunker.rechunk(\n",
    "    sampleData,\n",
    "    chunk_plan,\n",
    "    \"2GB\",                #<--- Max Memory\n",
    "    outfile ,\n",
    "    temp_store=\"/tmp/scratch.zarr\" \n",
    ")\n",
    "_ = result.execute() # Note that we must specifically direct rechunk to calculate.\n",
    "# without the call to execute(), the zarr dataset will be empty, and result will hold only\n",
    "# a 'task graph' outlining the calculation steps."
   ]
  },
  {
   "cell_type": "markdown",
   "metadata": {},
   "source": [
    "Note that `rechunker.rechunk` does not overwrite any data.  If it sees that `/tmp/outfile.zarr` or `/tmp/scratch.zarr` already exist, it will balk and likely raise an exception. Be sure that these locations do not exist. \n",
    "\n",
    "The `rechunker` also writes a minimalist data group.  Meaning that variable metadata is not consolidated. This is not a required step, but it will really spead up future workflows when the\n",
    "data is read back in. "
   ]
  },
  {
   "cell_type": "code",
   "execution_count": null,
   "metadata": {},
   "outputs": [],
   "source": [
    "import zarr\n",
    "_ = zarr.consolidate_metadata(outfile)"
   ]
  },
  {
   "cell_type": "markdown",
   "metadata": {},
   "source": [
    "## Results\n",
    "Let's read in the resulting re-chunked dataset to see how it looks:"
   ]
  },
  {
   "cell_type": "code",
   "execution_count": null,
   "metadata": {},
   "outputs": [],
   "source": [
    "reChunkedData = xr.open_zarr(outfile)\n",
    "reChunkedData"
   ]
  },
  {
   "cell_type": "markdown",
   "metadata": {},
   "source": [
    "Note here that for both `streamflow` and `velocity`, the chunksize in the `time` dimension is 744 (the total number of time steps). Analyses which favor fetching all time-step values for a given `facility_id` will prefer this chunking strategy."
   ]
  },
  {
   "cell_type": "markdown",
   "metadata": {},
   "source": [
    "### Comparison\n"
   ]
  },
  {
   "cell_type": "markdown",
   "metadata": {},
   "source": [
    "### Before Re-Chunking:"
   ]
  },
  {
   "cell_type": "code",
   "execution_count": null,
   "metadata": {},
   "outputs": [],
   "source": [
    "sampleData['streamflow'].sel(feature_id=1343034)\n",
    "# Note: three chunks needed to service a single feature_id"
   ]
  },
  {
   "cell_type": "markdown",
   "metadata": {},
   "source": [
    "### After re-chunking:"
   ]
  },
  {
   "cell_type": "code",
   "execution_count": null,
   "metadata": {},
   "outputs": [],
   "source": [
    "reChunkedData['streamflow'].sel(feature_id=1343034) \n",
    "# All data for the specified feature_id is in a single chunk\n"
   ]
  },
  {
   "cell_type": "markdown",
   "metadata": {},
   "source": [
    "## Cleaning Up"
   ]
  },
  {
   "cell_type": "code",
   "execution_count": null,
   "metadata": {},
   "outputs": [],
   "source": [
    "import shutil\n",
    "if os.path.exists(outfile):\n",
    "    print(f\"removing {outfile}\")\n",
    "    shutil.rmtree(outfile)\n",
    "if os.path.exists(r\"/tmp/scratch.zarr\"):\n",
    "    print(\"removing scratch space\")\n",
    "    shutil.rmtree(r\"/tmp/scratch.zarr\")"
   ]
  }
 ],
 "metadata": {
  "kernelspec": {
   "display_name": "Python 3 (ipykernel)",
   "language": "python",
   "name": "python3"
  },
  "language_info": {
   "codemirror_mode": {
    "name": "ipython",
    "version": 3
   },
   "file_extension": ".py",
   "mimetype": "text/x-python",
   "name": "python",
   "nbconvert_exporter": "python",
   "pygments_lexer": "ipython3",
   "version": "3.10.8"
  },
  "vscode": {
   "interpreter": {
    "hash": "4100cc85ffefb381c538d28dd18cb927e5a99f05bbed6aaad5313d7bb1c2079e"
   }
  }
 },
 "nbformat": 4,
 "nbformat_minor": 4
}
