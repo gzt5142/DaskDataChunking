{
 "cells": [
  {
   "cell_type": "markdown",
   "id": "0ec61866-cd5a-456d-96b0-a0746a58e29f",
   "metadata": {},
   "source": [
    "# AWS Credentials Helper\n",
    "\n",
    "This notebook helps set AWS credentials based on already-specified \n",
    "environment variables for profile and S3 endpoint. "
   ]
  },
  {
   "cell_type": "code",
   "execution_count": 2,
   "id": "1117a21a-b7f7-4374-a5bd-15bca24c11a1",
   "metadata": {},
   "outputs": [],
   "source": [
    "import os\n",
    "import configparser\n",
    "\n",
    "awsconfig = configparser.ConfigParser()\n",
    "awsconfig.read(\n",
    "    os.path.expanduser('~/.aws/credentials') \n",
    "    # default location... if yours is elsewhere, change this.\n",
    ")\n",
    "_profile_nm  = os.environ.get('AWS_PROFILE', 'osn-rsignellbucket2')\n",
    "_endpoint = os.environ.get('AWS_S3_ENDPOINT', 'https://renc.osn.xsede.org')\n",
    "# Set environment vars based on parsed awsconfig\n",
    "try:\n",
    "    os.environ['AWS_ACCESS_KEY_ID']     = awsconfig[_profile_nm]['aws_access_key_id']\n",
    "    os.environ['AWS_SECRET_ACCESS_KEY'] = awsconfig[_profile_nm]['aws_secret_access_key']\n",
    "    os.environ['AWS_S3_ENDPOINT']       = _endpoint\n",
    "    os.environ['AWS_PROFILE'] = _profile_nm\n",
    "    os.environ['AWS_DEFAULT_PROFILE'] = _profile_nm\n",
    "except KeyError:\n",
    "    logging.error(\"Problem parsing the AWS credentials file. \")"
   ]
  },
  {
   "cell_type": "code",
   "execution_count": null,
   "id": "e446e487-dd85-4d7d-a8b5-10d63a23dde2",
   "metadata": {},
   "outputs": [],
   "source": []
  }
 ],
 "metadata": {
  "kernelspec": {
   "display_name": "Python 3 (ipykernel)",
   "language": "python",
   "name": "python3"
  },
  "language_info": {
   "codemirror_mode": {
    "name": "ipython",
    "version": 3
   },
   "file_extension": ".py",
   "mimetype": "text/x-python",
   "name": "python",
   "nbconvert_exporter": "python",
   "pygments_lexer": "ipython3",
   "version": "3.10.8"
  }
 },
 "nbformat": 4,
 "nbformat_minor": 5
}
