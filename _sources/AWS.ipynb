{
 "cells": [
  {
   "cell_type": "markdown",
   "id": "0ec61866-cd5a-456d-96b0-a0746a58e29f",
   "metadata": {},
   "source": [
    "# AWS Credentials Helper\n",
    "\n",
    "This notebook helps set AWS credentials based on already-specified \n",
    "environment variables for profile and S3 endpoint. \n",
    "\n",
    "Before this notebook is called,  you can specify a particular profile and \n",
    "endpoint you'd like to use.  Do this by setting the appropriate environment\n",
    "variables: `AWS_PROFILE` and `AWS_S3_ENDPOINT`. \n",
    "\n",
    "If these environment variables are not set, defaults will be used (as specified\n",
    "in the code block below). "
   ]
  },
  {
   "cell_type": "code",
   "execution_count": 2,
   "id": "1117a21a-b7f7-4374-a5bd-15bca24c11a1",
   "metadata": {},
   "outputs": [],
   "source": [
    "import os\n",
    "import configparser\n",
    "\n",
    "awsconfig = configparser.ConfigParser()\n",
    "awsconfig.read(\n",
    "    os.path.expanduser('~/.aws/credentials') \n",
    "    # default location... if yours is elsewhere, change this.\n",
    ")\n",
    "_profile_nm  = os.environ.get('AWS_PROFILE', 'osn-rsignellbucket2')\n",
    "_endpoint = os.environ.get('AWS_S3_ENDPOINT', 'https://renc.osn.xsede.org')\n",
    "# Set environment vars based on parsed awsconfig\n",
    "try:\n",
    "    os.environ['AWS_ACCESS_KEY_ID']     = awsconfig[_profile_nm]['aws_access_key_id']\n",
    "    os.environ['AWS_SECRET_ACCESS_KEY'] = awsconfig[_profile_nm]['aws_secret_access_key']\n",
    "    os.environ['AWS_S3_ENDPOINT']       = _endpoint\n",
    "    os.environ['AWS_PROFILE'] = _profile_nm\n",
    "    os.environ['AWS_DEFAULT_PROFILE'] = _profile_nm\n",
    "except KeyError:\n",
    "    logging.error(\"Problem parsing the AWS credentials file. \")"
   ]
  },
  {
   "cell_type": "markdown",
   "id": "4f7f0646-2a0a-4a1d-aae2-9045dd50622e",
   "metadata": {},
   "source": [
    "It is extremely important that you **never** set any of the access keys or secrets directly -- we never want to include any of those values as string literals in any code.  This code is committed to a public repository, so doing this would essentially publish those secrets.  **ALWAYS** parse the config file as demonstrated above in order to obtain the access key and the secret access key. "
   ]
  },
  {
   "cell_type": "code",
   "execution_count": null,
   "id": "f473e813-dfff-4e91-a87c-bf7f74a414e8",
   "metadata": {},
   "outputs": [],
   "source": []
  }
 ],
 "metadata": {
  "kernelspec": {
   "display_name": "Python 3 (ipykernel)",
   "language": "python",
   "name": "python3"
  },
  "language_info": {
   "codemirror_mode": {
    "name": "ipython",
    "version": 3
   },
   "file_extension": ".py",
   "mimetype": "text/x-python",
   "name": "python",
   "nbconvert_exporter": "python",
   "pygments_lexer": "ipython3",
   "version": "3.10.8"
  }
 },
 "nbformat": 4,
 "nbformat_minor": 5
}
